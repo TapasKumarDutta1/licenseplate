{
  "nbformat": 4,
  "nbformat_minor": 0,
  "metadata": {
    "colab": {
      "name": "scoring",
      "provenance": [],
      "authorship_tag": "ABX9TyPC4PLRTT7xYlcDemVnZeFd",
      "include_colab_link": true
    },
    "kernelspec": {
      "name": "python3",
      "display_name": "Python 3"
    },
    "language_info": {
      "name": "python"
    }
  },
  "cells": [
    {
      "cell_type": "markdown",
      "metadata": {
        "id": "view-in-github",
        "colab_type": "text"
      },
      "source": [
        "<a href=\"https://colab.research.google.com/github/greyhound101/licenseplate/blob/main/scoring.ipynb\" target=\"_parent\"><img src=\"https://colab.research.google.com/assets/colab-badge.svg\" alt=\"Open In Colab\"/></a>"
      ]
    },
    {
      "cell_type": "code",
      "metadata": {
        "id": "IFk7fmtSNDSw"
      },
      "source": [
        "import numpy as np # linear algebra\n",
        "np.set_printoptions(suppress=True)\n",
        "import pandas as pd # data processing, CSV file I/O (e.g. pd.read_csv)\n",
        "\n",
        "# Input data files are available in the read-only \"../input/\" directory\n",
        "# For example, running this (by clicking run or pressing Shift+Enter) will list all files under the input directory\n",
        "from pathlib import Path\n",
        "from xml.dom.minidom import parse\n",
        "from shutil import copyfile\n",
        "import os"
      ],
      "execution_count": null,
      "outputs": []
    },
    {
      "cell_type": "code",
      "metadata": {
        "id": "8Lfc5AS4NHOa"
      },
      "source": [
        "!mkdir -p Dataset/labels\n",
        "!mkdir -p Dataset/images"
      ],
      "execution_count": null,
      "outputs": []
    },
    {
      "cell_type": "code",
      "metadata": {
        "id": "SSuaMwnfNHL_"
      },
      "source": [
        "classes = ['license_plate']"
      ],
      "execution_count": null,
      "outputs": []
    },
    {
      "cell_type": "code",
      "metadata": {
        "id": "TNFQhdHuNHJP"
      },
      "source": [
        "def convert_annot(size , box):\n",
        "    x1 = int(box[0])\n",
        "    y1 = int(box[1])\n",
        "    x2 = int(box[2])\n",
        "    y2 = int(box[3])\n",
        "\n",
        "    dw = np.float32(1. / int(size[0]))\n",
        "    dh = np.float32(1. / int(size[1]))\n",
        "\n",
        "    w = x2 - x1\n",
        "    h = y2 - y1\n",
        "    x = x1 + (w / 2)\n",
        "    y = y1 + (h / 2)\n",
        "\n",
        "    x = x * dw\n",
        "    w = w * dw\n",
        "    y = y * dh\n",
        "    h = h * dh\n",
        "    return [x, y, w, h]"
      ],
      "execution_count": null,
      "outputs": []
    },
    {
      "cell_type": "code",
      "metadata": {
        "id": "AHqVXFLYNHGb"
      },
      "source": [
        "classes = ['license_plate']\n",
        "def convert_annot(size , box):\n",
        "    x1 = int(box[0])\n",
        "    y1 = int(box[1])\n",
        "    x2 = int(box[2])\n",
        "    y2 = int(box[3])\n",
        "\n",
        "#     dw = np.float32(1. / int(size[0]))\n",
        "#     dh = np.float32(1. / int(size[1]))\n",
        "    dw=1\n",
        "    dh=1\n",
        "    \n",
        "    w = x2 - x1\n",
        "    h = y2 - y1\n",
        "    x = x1 + (w / 2)\n",
        "    y = y1 + (h / 2)\n",
        "\n",
        "    x = x * dw\n",
        "    w = w * dw\n",
        "    y = y * dh\n",
        "    h = h * dh\n",
        "    return [x, y, w, h]\n",
        "def save_txt_file(img_jpg_file_name, size, img_box):\n",
        "    save_file_name = '/kaggle/working/Dataset/labels/' +  img_jpg_file_name + '.npy'\n",
        "    #file_path = open(save_file_name, \"a+\")\n",
        "    total=[]\n",
        "    for box in img_box:\n",
        "            cls_num = classes.index(box[0])\n",
        "            total.append([cls_num,int(box[1]),int(box[2]),int(box[3]),int(box[4])])\n",
        "    np.save(save_file_name,total)\n",
        "def get_xml_data(file_path, img_xml_file):\n",
        "    img_path = file_path + '/' + img_xml_file + '.xml'\n",
        "    #print(img_path)\n",
        "\n",
        "    dom = parse(img_path)\n",
        "    root = dom.documentElement\n",
        "    img_name = root.getElementsByTagName(\"filename\")[0].childNodes[0].data\n",
        "    img_size = root.getElementsByTagName(\"size\")[0]\n",
        "    objects = root.getElementsByTagName(\"object\")\n",
        "    img_w = img_size.getElementsByTagName(\"width\")[0].childNodes[0].data\n",
        "    img_h = img_size.getElementsByTagName(\"height\")[0].childNodes[0].data\n",
        "    img_c = img_size.getElementsByTagName(\"depth\")[0].childNodes[0].data\n",
        "   \n",
        "    img_box = []\n",
        "    for box in objects:\n",
        "        cls_name = box.getElementsByTagName(\"name\")[0].childNodes[0].data\n",
        "        if cls_name=='license_plate':\n",
        "            x1 = int(box.getElementsByTagName(\"xmin\")[0].childNodes[0].data)\n",
        "            y1 = int(box.getElementsByTagName(\"ymin\")[0].childNodes[0].data)\n",
        "            x2 = int(box.getElementsByTagName(\"xmax\")[0].childNodes[0].data)\n",
        "            y2 = int(box.getElementsByTagName(\"ymax\")[0].childNodes[0].data)\n",
        "            area=(y2-y1)*(x2-x1)\n",
        "            if (area>10) & (area<20000):\n",
        "                img_jpg_file_name = img_xml_file + '.jpg'\n",
        "                img_box.append([cls_name, x1, x2,y1 , y2])\n",
        "\n",
        "    # test_dataset_box_feature(img_jpg_file_name, img_box)\n",
        "    save_txt_file(img_xml_file, [img_w, img_h], img_box)\n",
        "    return len(img_box)"
      ],
      "execution_count": null,
      "outputs": []
    },
    {
      "cell_type": "code",
      "metadata": {
        "id": "OpJyzt9jNHDr"
      },
      "source": [
        "files = os.listdir('/kaggle/input/number-plates/VOC2007/Annotations')\n",
        "for file in files:\n",
        "    file_xml = file.split(\".\")\n",
        "    get_xml_data('/kaggle/input/number-plates/VOC2007/Annotations', file_xml[0])"
      ],
      "execution_count": null,
      "outputs": []
    },
    {
      "cell_type": "code",
      "metadata": {
        "id": "VCWkJRj-NHA-"
      },
      "source": [
        "import glob\n",
        "total=[]\n",
        "for path in glob.glob('/kaggle/working/Dataset/labels/car*.npy'):\n",
        "    a=np.load(path)\n",
        "    id=path.split('/')[-1].split('.')[0].split('_')[-1]\n",
        "    for i in a:\n",
        "        total.append([id,0,i[1],i[2],i[3],i[4]])\n",
        "import pandas as pd\n",
        "df=pd.DataFrame(total)\n",
        "df.columns=['ImageID', 'LabelName', 'XMin', 'XMax', 'YMin', 'YMax']\n",
        "df['x']=df['XMin']\n",
        "df['y']=df['YMin']\n",
        "df['w']=df['XMax']-df['XMin']\n",
        "df['h']=df['YMax']-df['YMin']\n",
        "df['ImageID']=df['ImageID'].astype('int64')"
      ],
      "execution_count": null,
      "outputs": []
    },
    {
      "cell_type": "code",
      "metadata": {
        "id": "x7Wl0xiSNG-h"
      },
      "source": [
        "def calculate_iou(gt, pr, form='pascal_voc') -> float:\n",
        "    \"\"\"Calculates the Intersection over Union.\n",
        "\n",
        "    Args:\n",
        "        gt: (np.ndarray[Union[int, float]]) coordinates of the ground-truth box\n",
        "        pr: (np.ndarray[Union[int, float]]) coordinates of the prdected box\n",
        "        form: (str) gt/pred coordinates format\n",
        "            - pascal_voc: [xmin, ymin, xmax, ymax]\n",
        "            - coco: [xmin, ymin, w, h]\n",
        "    Returns:\n",
        "        (float) Intersection over union (0.0 <= iou <= 1.0)\n",
        "    \"\"\"\n",
        "    if form == 'coco':\n",
        "        gt = gt.copy()\n",
        "        pr = pr.copy()\n",
        "\n",
        "        gt[2] = gt[0] + gt[2]\n",
        "        gt[3] = gt[1] + gt[3]\n",
        "        pr[2] = pr[0] + pr[2]\n",
        "        pr[3] = pr[1] + pr[3]\n",
        "\n",
        "    # Calculate overlap area\n",
        "    dx = min(gt[2], pr[2]) - max(gt[0], pr[0]) + 1\n",
        "    \n",
        "    if dx < 0:\n",
        "        return 0.0\n",
        "    \n",
        "    dy = min(gt[3], pr[3]) - max(gt[1], pr[1]) + 1\n",
        "\n",
        "    if dy < 0:\n",
        "        return 0.0\n",
        "\n",
        "    overlap_area = dx * dy\n",
        "\n",
        "    # Calculate union area\n",
        "    union_area = (\n",
        "            (gt[2] - gt[0] + 1) * (gt[3] - gt[1] + 1) +\n",
        "            (pr[2] - pr[0] + 1) * (pr[3] - pr[1] + 1) -\n",
        "            overlap_area\n",
        "    )\n",
        "\n",
        "    return overlap_area / union_area\n",
        "\n",
        "def find_best_match(gts, pred, pred_idx, threshold = 0.5, form = 'pascal_voc', ious=None) -> int:\n",
        "    \"\"\"Returns the index of the 'best match' between the\n",
        "    ground-truth boxes and the prediction. The 'best match'\n",
        "    is the highest IoU. (0.0 IoUs are ignored).\n",
        "\n",
        "    Args:\n",
        "        gts: (List[List[Union[int, float]]]) Coordinates of the available ground-truth boxes\n",
        "        pred: (List[Union[int, float]]) Coordinates of the predicted box\n",
        "        pred_idx: (int) Index of the current predicted box\n",
        "        threshold: (float) Threshold\n",
        "        form: (str) Format of the coordinates\n",
        "        ious: (np.ndarray) len(gts) x len(preds) matrix for storing calculated ious.\n",
        "\n",
        "    Return:\n",
        "        (int) Index of the best match GT box (-1 if no match above threshold)\n",
        "    \"\"\"\n",
        "    best_match_iou = -np.inf\n",
        "    best_match_idx = -1\n",
        "\n",
        "    for gt_idx in range(len(gts)):\n",
        "        \n",
        "        if gts[gt_idx][0] < 0:\n",
        "            # Already matched GT-box\n",
        "            continue\n",
        "        \n",
        "        iou = -1 if ious is None else ious[gt_idx][pred_idx]\n",
        "\n",
        "        if iou < 0:\n",
        "            iou = calculate_iou(gts[gt_idx], pred, form=form)\n",
        "            \n",
        "            if ious is not None:\n",
        "                ious[gt_idx][pred_idx] = iou\n",
        "\n",
        "        if iou < threshold:\n",
        "            continue\n",
        "\n",
        "        if iou > best_match_iou:\n",
        "            best_match_iou = iou\n",
        "            best_match_idx = gt_idx\n",
        "\n",
        "    return best_match_idx\n",
        "\n",
        "def calculate_precision(gts, preds, threshold = 0.5, form = 'coco', ious=None) -> float:\n",
        "    \"\"\"Calculates precision for GT - prediction pairs at one threshold.\n",
        "\n",
        "    Args:\n",
        "        gts: (List[List[Union[int, float]]]) Coordinates of the available ground-truth boxes\n",
        "        preds: (List[List[Union[int, float]]]) Coordinates of the predicted boxes,\n",
        "               sorted by confidence value (descending)\n",
        "        threshold: (float) Threshold\n",
        "        form: (str) Format of the coordinates\n",
        "        ious: (np.ndarray) len(gts) x len(preds) matrix for storing calculated ious.\n",
        "\n",
        "    Return:\n",
        "        (float) Precision\n",
        "    \"\"\"\n",
        "    n = len(preds)\n",
        "    tp = 0\n",
        "    fp = 0\n",
        "    \n",
        "    # for pred_idx, pred in enumerate(preds_sorted):\n",
        "    for pred_idx in range(n):\n",
        "\n",
        "        best_match_gt_idx = find_best_match(gts, preds[pred_idx], pred_idx,\n",
        "                                            threshold=threshold, form=form, ious=ious)\n",
        "\n",
        "        if best_match_gt_idx >= 0:\n",
        "            # True positive: The predicted box matches a gt box with an IoU above the threshold.\n",
        "            tp += 1\n",
        "            # Remove the matched GT box\n",
        "            gts[best_match_gt_idx] = -1\n",
        "\n",
        "        else:\n",
        "            # No match\n",
        "            # False positive: indicates a predicted box had no associated gt box.\n",
        "            fp += 1\n",
        "\n",
        "    # False negative: indicates a gt box had no associated predicted box.\n",
        "    fn = (gts.sum(axis=1) > 0).sum()\n",
        "\n",
        "    return tp / (tp + fp + fn)\n",
        "\n",
        "\n",
        "def calculate_image_precision(gts, preds, thresholds = (0.5, ), form = 'coco') -> float:\n",
        "    \"\"\"Calculates image precision.\n",
        "\n",
        "    Args:\n",
        "        gts: (List[List[Union[int, float]]]) Coordinates of the available ground-truth boxes\n",
        "        preds: (List[List[Union[int, float]]]) Coordinates of the predicted boxes,\n",
        "               sorted by confidence value (descending)\n",
        "        thresholds: (float) Different thresholds\n",
        "        form: (str) Format of the coordinates\n",
        "\n",
        "    Return:\n",
        "        (float) Precision\n",
        "    \"\"\"\n",
        "    n_threshold = len(thresholds)\n",
        "    image_precision = 0.0\n",
        "    \n",
        "    ious = np.ones((len(gts), len(preds))) * -1\n",
        "    # ious = None\n",
        "\n",
        "    for threshold in thresholds:\n",
        "        precision_at_threshold = calculate_precision(gts.copy(), preds, threshold=threshold,\n",
        "                                                     form=form, ious=ious)\n",
        "        image_precision += precision_at_threshold / n_threshold\n",
        "\n",
        "    return image_precision"
      ],
      "execution_count": null,
      "outputs": []
    },
    {
      "cell_type": "code",
      "metadata": {
        "id": "YWPW04OyNG7S"
      },
      "source": [
        "import glob\n",
        "total=[]\n",
        "sum=0\n",
        "for path in glob.glob('/kaggle/input/single-pred/yolov5/*.npy'):\n",
        "    a=np.load(path,allow_pickle=True)\n",
        "    if len(a)==0:\n",
        "        sum+=1\n",
        "    id=path.split('/')[-1].split('.')[0].split('_')[0]\n",
        "    for i in a:\n",
        "            total.append([int(id),0,float(i['scores'].split(' ')[-1]),i['boxes'][0],i['boxes'][1],i['boxes'][2],i['boxes'][3]])\n"
      ],
      "execution_count": null,
      "outputs": []
    },
    {
      "cell_type": "code",
      "metadata": {
        "id": "wX7_88HRNG4H"
      },
      "source": [
        "org=pd.DataFrame(total)\n",
        "org.columns=['ImageID', 'LabelName','Conf', 'XMin', 'YMin', 'XMax', 'YMax']\n",
        "org['x']=org['XMin']\n",
        "org['y']=org['YMin']\n",
        "org['w']=org['XMax']-org['XMin']\n",
        "org['h']=org['YMax']-org['YMin']\n",
        "org['ImageID']=org['ImageID'].astype('int64')\n",
        "pre=org.sort_values(by='Conf',ascending=False)\n",
        "tot=0"
      ],
      "execution_count": null,
      "outputs": []
    },
    {
      "cell_type": "code",
      "metadata": {
        "id": "tuc7mVjKNG1a"
      },
      "source": [
        "for en,i in enumerate(list(set(pre['ImageID'].values).intersection(set(df['ImageID'].values)))):\n",
        "    tot+=calculate_precision(df.loc[df['ImageID']==i][['x','y','w','h']].values.copy(), pre.loc[pre['ImageID']==i][['x','y','w','h']].values, threshold=0.5, form='coco')\n",
        "tot/en"
      ],
      "execution_count": null,
      "outputs": []
    },
    {
      "cell_type": "code",
      "metadata": {
        "id": "oIdVMr7oNYUR"
      },
      "source": [
        "import glob\n",
        "total=[]\n",
        "sum=0\n",
        "for path in glob.glob('/kaggle/input/nms-wbf/yolov5/*.npy'):\n",
        "    a=np.load(path,allow_pickle=True)\n",
        "    if len(a)==0:\n",
        "        sum+=1\n",
        "    id=path.split('/')[-1].split('.')[0].split('_')[0]\n",
        "    for i in a:\n",
        "            total.append([int(id),0,float(i[-1]),i[0],i[1],i[2],i[3]])\n"
      ],
      "execution_count": null,
      "outputs": []
    },
    {
      "cell_type": "code",
      "metadata": {
        "id": "xIrKk8zsNYRF"
      },
      "source": [
        "org=pd.DataFrame(total)\n",
        "org.columns=['ImageID', 'LabelName','Conf', 'XMin', 'YMin', 'XMax', 'YMax']\n",
        "org['x']=org['XMin']\n",
        "org['y']=org['YMin']\n",
        "org['w']=org['XMax']-org['XMin']\n",
        "org['h']=org['YMax']-org['YMin']\n",
        "org['ImageID']=org['ImageID'].astype('int64')\n",
        "pre=org.sort_values(by='Conf',ascending=False)\n",
        "tot=0"
      ],
      "execution_count": null,
      "outputs": []
    },
    {
      "cell_type": "code",
      "metadata": {
        "id": "mV9HBIuuNYOG"
      },
      "source": [
        "for en,i in enumerate(list(set(pre['ImageID'].values).intersection(set(df['ImageID'].values)))):\n",
        "    tot+=calculate_precision(df.loc[df['ImageID']==i][['x','y','w','h']].values.copy(), pre.loc[pre['ImageID']==i][['x','y','w','h']].values, threshold=0.5, form='coco')\n",
        "tot/en"
      ],
      "execution_count": null,
      "outputs": []
    }
  ]
}